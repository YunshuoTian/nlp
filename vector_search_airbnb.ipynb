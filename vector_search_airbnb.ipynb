{
  "nbformat": 4,
  "nbformat_minor": 0,
  "metadata": {
    "colab": {
      "provenance": [],
      "authorship_tag": "ABX9TyMm6QR2l035Z30xhPPmPlk7",
      "include_colab_link": true
    },
    "kernelspec": {
      "name": "python3",
      "display_name": "Python 3"
    },
    "language_info": {
      "name": "python"
    }
  },
  "cells": [
    {
      "cell_type": "markdown",
      "metadata": {
        "id": "view-in-github",
        "colab_type": "text"
      },
      "source": [
        "<a href=\"https://colab.research.google.com/github/YunshuoTian/nlp/blob/main/vector_search_airbnb.ipynb\" target=\"_parent\"><img src=\"https://colab.research.google.com/assets/colab-badge.svg\" alt=\"Open In Colab\"/></a>"
      ]
    },
    {
      "cell_type": "code",
      "source": [
        "pip install pymongo"
      ],
      "metadata": {
        "id": "OaoFaZHge6lT",
        "outputId": "39c19dcf-ba05-4f26-9188-537d83437d35",
        "colab": {
          "base_uri": "https://localhost:8080/"
        }
      },
      "execution_count": 2,
      "outputs": [
        {
          "output_type": "stream",
          "name": "stdout",
          "text": [
            "Collecting pymongo\n",
            "  Downloading pymongo-4.8.0-cp310-cp310-manylinux_2_17_x86_64.manylinux2014_x86_64.whl.metadata (22 kB)\n",
            "Collecting dnspython<3.0.0,>=1.16.0 (from pymongo)\n",
            "  Downloading dnspython-2.6.1-py3-none-any.whl.metadata (5.8 kB)\n",
            "Downloading pymongo-4.8.0-cp310-cp310-manylinux_2_17_x86_64.manylinux2014_x86_64.whl (1.2 MB)\n",
            "\u001b[2K   \u001b[90m━━━━━━━━━━━━━━━━━━━━━━━━━━━━━━━━━━━━━━━━\u001b[0m \u001b[32m1.2/1.2 MB\u001b[0m \u001b[31m24.3 MB/s\u001b[0m eta \u001b[36m0:00:00\u001b[0m\n",
            "\u001b[?25hDownloading dnspython-2.6.1-py3-none-any.whl (307 kB)\n",
            "\u001b[2K   \u001b[90m━━━━━━━━━━━━━━━━━━━━━━━━━━━━━━━━━━━━━━━━\u001b[0m \u001b[32m307.7/307.7 kB\u001b[0m \u001b[31m12.6 MB/s\u001b[0m eta \u001b[36m0:00:00\u001b[0m\n",
            "\u001b[?25hInstalling collected packages: dnspython, pymongo\n",
            "Successfully installed dnspython-2.6.1 pymongo-4.8.0\n"
          ]
        }
      ]
    },
    {
      "cell_type": "code",
      "execution_count": 3,
      "metadata": {
        "id": "VMJKlk9FFZiA"
      },
      "outputs": [],
      "source": [
        "import pymongo\n",
        "import requests\n",
        "from google.colab import userdata\n",
        "import time\n",
        "\n",
        "mongo_secret = userdata.get('mongo_secret')\n",
        "client = pymongo.MongoClient(mongo_secret)\n",
        "hf_token = userdata.get('hf_read')"
      ]
    },
    {
      "cell_type": "code",
      "source": [
        "db = client.sample_airbnb\n",
        "collection = db.listingsAndReviews\n",
        "collection.find_one({'summary':{\"$exists\": True}, 'summary_embedding': {'$exists': False}})"
      ],
      "metadata": {
        "collapsed": true,
        "id": "asu1F2AnFvCi"
      },
      "execution_count": null,
      "outputs": []
    },
    {
      "cell_type": "code",
      "source": [
        "embedding_url = \"https://api-inference.huggingface.co/pipeline/feature-extraction/sentence-transformers/all-MiniLM-L6-v2\"\n",
        "\n",
        "def generate_embedding(text: str) -> list[float]:\n",
        "\n",
        "    response = requests.post(\n",
        "        embedding_url,\n",
        "        headers={\"Authorization\": f\"Bearer {hf_token}\"},\n",
        "        json={\"inputs\": text})\n",
        "\n",
        "    if response.status_code == 503:\n",
        "        time.sleep(20)\n",
        "    if response.status_code != 200:\n",
        "        raise ValueError(f\"Request failed with status code {response.status_code}: {response.text}\")\n",
        "\n",
        "    return response.json()"
      ],
      "metadata": {
        "id": "QTVHFu8xGbEi"
      },
      "execution_count": 8,
      "outputs": []
    },
    {
      "cell_type": "code",
      "source": [
        "for doc in collection.find({'summary':{\"$exists\": True}, 'summary_embedding': {'$exists': False}}).limit(100):\n",
        "\tdoc['summary_embedding'] = generate_embedding(doc['summary'])\n",
        "\tcollection.replace_one({'_id': doc['_id']}, doc)"
      ],
      "metadata": {
        "id": "cXDti0XQGtfV"
      },
      "execution_count": 9,
      "outputs": []
    },
    {
      "cell_type": "code",
      "source": [
        "collection.count_documents({'summary_embedding': {'$exists': True}})"
      ],
      "metadata": {
        "id": "RNMpNAFacleO"
      },
      "execution_count": null,
      "outputs": []
    },
    {
      "cell_type": "code",
      "source": [
        "query = \"apartment in city center of new york\"\n",
        "\n",
        "results = collection.aggregate([\n",
        "  {\"$vectorSearch\": {\n",
        "    \"queryVector\": generate_embedding(query),\n",
        "    \"path\": \"summary_embedding\",\n",
        "    \"numCandidates\": 100,\n",
        "    \"limit\": 4,\n",
        "    \"index\": \"summary_index\",\n",
        "      }}\n",
        "])"
      ],
      "metadata": {
        "id": "Z9HCUmiCHAxL"
      },
      "execution_count": 15,
      "outputs": []
    },
    {
      "cell_type": "code",
      "source": [
        "for document in results:\n",
        "    print(f'Name: {document[\"name\"]},\\nSummary: {document[\"summary\"]},\\nSpace: {document[\"space\"]}\\n')"
      ],
      "metadata": {
        "colab": {
          "base_uri": "https://localhost:8080/"
        },
        "id": "DIG4aLeGemEa",
        "outputId": "52cf98a5-907c-4332-e904-844c64e583b5"
      },
      "execution_count": 16,
      "outputs": [
        {
          "output_type": "stream",
          "name": "stdout",
          "text": [
            "Name: Private Cozy Bedroom in Brooklyn,\n",
            "Summary: Your private room is located in our family's lovely 3-bedroom condo, a welcoming space for you to call home while enjoying all that New York's five boroughs have to offer. We are artists and students of culture and will be happy to help with recommendations during your stay. We also have another bedroom listing with more space: https://www.airbnb.com/rooms/135393?s=8&user_id=663764&ref_device_id=834476da76042c7d3d85486a5eaac86e8cc4de3b,\n",
            "Space: To yourself, you'll have a cozy room furnished with a comfortable and adjustable Ikea bed that pulls out from a twin to become a double. Your room also has a small refrigerator/freezer. yay! Clean sheets, blankets, pillows, and shampoo/conditioner are provided, as well as fresh towels and some closet space. (There are no additional charges for these items.) (Note: When set-up as a double, the bed will take up most of the space in the room, though you may push it back into a twin for more space during the day.)  We provide you with your own set of house keys, including for your private room.  We don't impose a curfew so you're welcome to come and go as you like -- make yourself at home! There is one bathroom in the unit with a sink, toilet, and shower/tub to be used by all.  While communication about timing for the use of the bathroom for morning and evening schedules is always beneficial, we have never had any issues sharing this space with guests. You are also welcome to share the oth\n",
            "\n",
            "Name: UWS Brownstone Near Central Park,\n",
            "Summary: This spacious one bedroom apartment has a bonus space with two extra beds as well as a fold out sofa.  Close to the park, the subway, museums and restaurants.  This apartment is the perfect quiet getaway in the middle of Manhattan.,\n",
            "Space: This charming one-bedroom apartment in a landmark brownstone townhouse in the Upper West Side area of Manhattan has high-ceilings, a fireplace and two planted, south-facing balconies overlooking a beautiful garden.  (The balcony off of the living room is about 5\" X 8\" and has a small table and two chairs where two people can have a nice meal.  The balcony off of the bedroom is about 5\" X 14' and there is a chaise longue and a sitting chair, along with two side tables.  Both have outdoor lights, overlook a nice garden, and have plantings.)   There is a queen-sized bed in the private bedroom with closing door. There is also a very high quality full sized sofa bed in the living room.  This beautiful home is on an historic tree-lined block, between Central Park West and Columbus Avenue, near major museums, shopping, and subways.   The owner prefers to accommodate two adults.  Because of the circumstances, only guests who are comfortable being reasonably quiet are encouraged to stay.    Thi\n",
            "\n",
            "Name: Large railroad style 3 bedroom apt in Manhattan!,\n",
            "Summary: Spacious 3 bedroom apartment. 2 are railroad style (must go through one to get to the next) and the additional bedroom is at opposite end of the apartment for extra privacy. Well equipped open kitchen. Large living room with additional fold out couch. Great apt for a weekend in NYC.  10 min walk to Central Park.,\n",
            "Space: Beautiful Railroad style NYC apartment with exposed brick. Larger than what most people expect to get in NYC. Located in and old Italian neighborhood that has slowly turned into El barrio (The latin neighborhood of manhattan). This combination is amazing since you will be staying next to one of NYC's oldest brick oven pizzeria, Patsy's, and one of NYC's best Italian restaurants RAO's, plus a plethora of LatinAmerican and Mexican restaurants at walking distance.\n",
            "\n",
            "Name: New apartment - 1 room,\n",
            "Summary: New and cozy apartment with 1 room available.,\n",
            "Space: Cozy new apartment with 1 bedroom, 1 bathroom, living room and kitchen available. The room has 2 single beds which together can make a double bed. Air conditioning in living room and bedroom. The apartment also has suite which is locked and not available to guests.  New and cozy apartment with 1 bedroom, 1 bathroom, living room and kitchen available. The room has two single beds which together make a double bed. Air conditioning in living room and bedroom. The apartment has also a suite that is kept closed and not available for guests in this advertisement.\n",
            "\n"
          ]
        }
      ]
    }
  ]
}