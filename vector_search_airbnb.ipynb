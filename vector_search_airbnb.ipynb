{
  "nbformat": 4,
  "nbformat_minor": 0,
  "metadata": {
    "colab": {
      "provenance": [],
      "authorship_tag": "ABX9TyMFhENaYtNJgLVGxQMSQJLR",
      "include_colab_link": true
    },
    "kernelspec": {
      "name": "python3",
      "display_name": "Python 3"
    },
    "language_info": {
      "name": "python"
    }
  },
  "cells": [
    {
      "cell_type": "markdown",
      "metadata": {
        "id": "view-in-github",
        "colab_type": "text"
      },
      "source": [
        "<a href=\"https://colab.research.google.com/github/YunshuoTian/nlp/blob/main/vector_search_airbnb.ipynb\" target=\"_parent\"><img src=\"https://colab.research.google.com/assets/colab-badge.svg\" alt=\"Open In Colab\"/></a>"
      ]
    },
    {
      "cell_type": "code",
      "execution_count": 12,
      "metadata": {
        "id": "VMJKlk9FFZiA"
      },
      "outputs": [],
      "source": [
        "import pymongo\n",
        "import requests\n",
        "from google.colab import userdata\n",
        "import time\n",
        "\n",
        "mongo_secret = userdata.get('mongo_secret')\n",
        "client = pymongo.MongoClient(mongo_secret)\n",
        "hf_token = userdata.get('hf_read')"
      ]
    },
    {
      "cell_type": "code",
      "source": [
        "db = client.sample_airbnb\n",
        "collection = db.listingsAndReviews\n",
        "collection.find_one({'summary':{\"$exists\": True}})"
      ],
      "metadata": {
        "collapsed": true,
        "id": "asu1F2AnFvCi"
      },
      "execution_count": null,
      "outputs": []
    },
    {
      "cell_type": "code",
      "source": [
        "embedding_url = \"https://api-inference.huggingface.co/pipeline/feature-extraction/sentence-transformers/all-MiniLM-L6-v2\"\n",
        "\n",
        "def generate_embedding(text: str) -> list[float]:\n",
        "\n",
        "    response = requests.post(\n",
        "        embedding_url,\n",
        "        headers={\"Authorization\": f\"Bearer {hf_token}\"},\n",
        "        json={\"inputs\": text})\n",
        "\n",
        "    if response.status_code == 503:\n",
        "        time.sleep(20)\n",
        "    if response.status_code != 200:\n",
        "        raise ValueError(f\"Request failed with status code {response.status_code}: {response.text}\")\n",
        "\n",
        "    return response.json()"
      ],
      "metadata": {
        "id": "QTVHFu8xGbEi"
      },
      "execution_count": 14,
      "outputs": []
    },
    {
      "cell_type": "code",
      "source": [
        "for doc in collection.find({'summary':{\"$exists\": True}, 'summary_embedding': {'$exists': False}}).limit(100):\n",
        "\tdoc['summary_embedding'] = generate_embedding(doc['summary'])\n",
        "\tcollection.replace_one({'_id': doc['_id']}, doc)"
      ],
      "metadata": {
        "id": "cXDti0XQGtfV"
      },
      "execution_count": 19,
      "outputs": []
    },
    {
      "cell_type": "code",
      "source": [
        "collection.count_documents({'summary_embedding': {'$exists': True}})"
      ],
      "metadata": {
        "colab": {
          "base_uri": "https://localhost:8080/"
        },
        "id": "RNMpNAFacleO",
        "outputId": "e2a58edd-d90a-4c9f-ad5d-68c4d868a4f3"
      },
      "execution_count": 20,
      "outputs": [
        {
          "output_type": "execute_result",
          "data": {
            "text/plain": [
              "500"
            ]
          },
          "metadata": {},
          "execution_count": 20
        }
      ]
    },
    {
      "cell_type": "code",
      "source": [
        "query = \"Apartment in city center of new york\"\n",
        "\n",
        "results = collection.aggregate([\n",
        "  {\"$vectorSearch\": {\n",
        "    \"queryVector\": generate_embedding(query),\n",
        "    \"path\": \"summary_embedding\",\n",
        "    \"numCandidates\": 100,\n",
        "    \"limit\": 4,\n",
        "    \"index\": \"summary_index\",\n",
        "      }}\n",
        "])"
      ],
      "metadata": {
        "id": "Z9HCUmiCHAxL"
      },
      "execution_count": 25,
      "outputs": []
    },
    {
      "cell_type": "code",
      "source": [
        "for document in results:\n",
        "    print(f'Name: {document[\"name\"]},\\nSummary: {document[\"summary\"]},\\nSpace: {document[\"space\"]}\\n')"
      ],
      "metadata": {
        "colab": {
          "base_uri": "https://localhost:8080/"
        },
        "id": "DIG4aLeGemEa",
        "outputId": "99df3c9f-a429-4bf8-cdb7-f5e895a16b26"
      },
      "execution_count": 26,
      "outputs": [
        {
          "output_type": "stream",
          "name": "stdout",
          "text": [
            "Name: UWS Brownstone Near Central Park,\n",
            "Summary: This spacious one bedroom apartment has a bonus space with two extra beds as well as a fold out sofa.  Close to the park, the subway, museums and restaurants.  This apartment is the perfect quiet getaway in the middle of Manhattan.,\n",
            "Space: This charming one-bedroom apartment in a landmark brownstone townhouse in the Upper West Side area of Manhattan has high-ceilings, a fireplace and two planted, south-facing balconies overlooking a beautiful garden.  (The balcony off of the living room is about 5\" X 8\" and has a small table and two chairs where two people can have a nice meal.  The balcony off of the bedroom is about 5\" X 14' and there is a chaise longue and a sitting chair, along with two side tables.  Both have outdoor lights, overlook a nice garden, and have plantings.)   There is a queen-sized bed in the private bedroom with closing door. There is also a very high quality full sized sofa bed in the living room.  This beautiful home is on an historic tree-lined block, between Central Park West and Columbus Avenue, near major museums, shopping, and subways.   The owner prefers to accommodate two adults.  Because of the circumstances, only guests who are comfortable being reasonably quiet are encouraged to stay.    Thi\n",
            "\n",
            "Name: Affordable and close to the city!,\n",
            "Summary: Comfortable room in a modern apartment near city.,\n",
            "Space: This is a split level apartment with 2 bedrooms.  The master room and laundry room are located downstairs.  Upstairs is your room + bathroom, kitchen, dining and living area and 2 balconies. Your room has a built in wardrobe, balcony and own private bathroom. It is equipped with a queen size bed, ceiling fan and wifi.  Located on the borders of Alexandria and Redfern, the apartment is an easy 5 mins stroll to the Redfern train station. From the station, you're only 1 stop away from Central station where you can catch direct trains to the airport and 2 stops away from the heart of the city. Commuting to the city is quick and convenient either by train or bus. The nearest bus stop is 200m from the apartment and there are regular buses to the city.  The bus ride should only take 10-15 minutes. A taxi ride from the airport takes about 15 minutes and costs less than AUD30 with Uber. The neighbourhood has a great selection of trendy cafes, bars and restaurants and is home to various outlet s\n",
            "\n",
            "Name: Large railroad style 3 bedroom apt in Manhattan!,\n",
            "Summary: Spacious 3 bedroom apartment. 2 are railroad style (must go through one to get to the next) and the additional bedroom is at opposite end of the apartment for extra privacy. Well equipped open kitchen. Large living room with additional fold out couch. Great apt for a weekend in NYC.  10 min walk to Central Park.,\n",
            "Space: Beautiful Railroad style NYC apartment with exposed brick. Larger than what most people expect to get in NYC. Located in and old Italian neighborhood that has slowly turned into El barrio (The latin neighborhood of manhattan). This combination is amazing since you will be staying next to one of NYC's oldest brick oven pizzeria, Patsy's, and one of NYC's best Italian restaurants RAO's, plus a plethora of LatinAmerican and Mexican restaurants at walking distance.\n",
            "\n",
            "Name: UNFURNISHED SPACIOUS ONE BEDROOM (-CHEAP STAY-),\n",
            "Summary: **UNFURNISHED HUGE ONE BEDROOM APARTMENT***  Full Size Bed Available, Private Apartment, Available to Sublet for a Week or more! Wifi is available! Great for Photoshoots and more! 5 min walk to 2/5 NYC Transit Subway Flatbush Ave/Brooklyn College Station (bars, local restaurants, Target), 2/5 subway, many Local and Select buses,\n",
            "Space: Welcome to the best space in Brooklyn. Our bright airy UNFURNISHED one-bedroom apartment is open and airy with lots of light lots. Features: - FULL futon in the living room - Laundry in the basement of the apartment  - Bathroom - Wireless High Speed Internet - Kitchen  - Apartment Elevator  - Privacy\n",
            "\n"
          ]
        }
      ]
    }
  ]
}