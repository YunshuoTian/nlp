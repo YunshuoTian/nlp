{
  "nbformat": 4,
  "nbformat_minor": 0,
  "metadata": {
    "colab": {
      "provenance": [],
      "authorship_tag": "ABX9TyNofNNBNbML231kB3tDSK7K"
    },
    "kernelspec": {
      "name": "python3",
      "display_name": "Python 3"
    },
    "language_info": {
      "name": "python"
    }
  },
  "cells": [
    {
      "cell_type": "code",
      "source": [
        "import pymongo\n",
        "import requests\n",
        "from google.colab import userdata\n",
        "\n",
        "client = pymongo.MongoClient('mongo_secret')"
      ],
      "metadata": {
        "id": "VdaG9yUGl62_"
      },
      "execution_count": 59,
      "outputs": []
    },
    {
      "cell_type": "code",
      "source": [
        "db = client.sample_mflix\n",
        "collection = db.movies"
      ],
      "metadata": {
        "id": "tlngnSbTmdNL"
      },
      "execution_count": 60,
      "outputs": []
    },
    {
      "cell_type": "code",
      "source": [
        "hf_token = userdata.get('hf_read')"
      ],
      "metadata": {
        "id": "4moW62F3mv4c"
      },
      "execution_count": 30,
      "outputs": []
    },
    {
      "cell_type": "code",
      "source": [
        "embedding_url = \"https://api-inference.huggingface.co/pipeline/feature-extraction/sentence-transformers/all-MiniLM-L6-v2\"\n",
        "\n",
        "def generate_embedding(text: str) -> list[float]:\n",
        "\n",
        "    response = requests.post(\n",
        "        embedding_url,\n",
        "        headers={\"Authorization\": f\"Bearer {hf_token}\"},\n",
        "        json={\"inputs\": text})\n",
        "\n",
        "    if response.status_code != 200:\n",
        "        raise ValueError(f\"Request failed with status code {response.status_code}: {response.text}\")\n",
        "\n",
        "    return response.json()"
      ],
      "metadata": {
        "id": "_RBBZDiIobxz"
      },
      "execution_count": 31,
      "outputs": []
    },
    {
      "cell_type": "code",
      "source": [
        "for doc in collection.find({'plot':{\"$exists\": True}}).limit(50):\n",
        "\tdoc['plot_embedding_hf'] = generate_embedding(doc['plot'])\n",
        "\tcollection.replace_one({'_id': doc['_id']}, doc)"
      ],
      "metadata": {
        "id": "X3sLosR9o4O7"
      },
      "execution_count": null,
      "outputs": []
    },
    {
      "cell_type": "code",
      "source": [
        "query = \"imaginary characters from outer space at war\"\n",
        "#query = \"action or sci fi\"\n",
        "\n",
        "results = collection.aggregate([\n",
        "  {\"$vectorSearch\": {\n",
        "    \"queryVector\": generate_embedding(query),\n",
        "    \"path\": \"plot_embedding_hf\",\n",
        "    \"numCandidates\": 100,\n",
        "    \"limit\": 4,\n",
        "    \"index\": \"movie_index\",\n",
        "      }}\n",
        "])"
      ],
      "metadata": {
        "id": "_0Q1XJz4pAno"
      },
      "execution_count": null,
      "outputs": []
    },
    {
      "cell_type": "code",
      "source": [
        "for document in results:\n",
        "    print(f'Movie Name: {document[\"title\"]},\\nMovie Plot: {document[\"plot\"]}\\n')"
      ],
      "metadata": {
        "id": "Nqr74J1-qc96",
        "outputId": "6733c30b-3a16-4aed-ec57-08b57ceb3fd5",
        "colab": {
          "base_uri": "https://localhost:8080/"
        }
      },
      "execution_count": 38,
      "outputs": [
        {
          "output_type": "stream",
          "name": "stdout",
          "text": [
            "Movie Name: Four Sons,\n",
            "Movie Plot: A family saga in which three of a Bavarian widow's sons go to war for Germany and the fourth goes to America, Germany's eventual opponent.\n",
            "\n",
            "Movie Name: The Strong Man,\n",
            "Movie Plot: A meek Belgian soldier (Harry Langdon) fighting in World War I receives penpal letters and a photo from \"Mary Brown\", an American girl he has never met. He becomes infatuated with her by ...\n",
            "\n",
            "Movie Name: The Four Horsemen of the Apocalypse,\n",
            "Movie Plot: An extended family split up in France and Germany find themselves on opposing sides of the battlefield during World War I.\n",
            "\n",
            "Movie Name: In the Land of the Head Hunters,\n",
            "Movie Plot: Original advertising for the film describes it as a drama of primitive life on the shores of the North Pacific...\n",
            "\n"
          ]
        }
      ]
    }
  ]
}